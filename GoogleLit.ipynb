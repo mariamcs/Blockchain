{
  "nbformat": 4,
  "nbformat_minor": 0,
  "metadata": {
    "colab": {
      "name": "GoogleLit.ipynb",
      "provenance": [],
      "private_outputs": true,
      "toc_visible": true,
      "machine_shape": "hm",
      "include_colab_link": true
    },
    "kernelspec": {
      "name": "python3",
      "display_name": "Python 3"
    },
    "accelerator": "GPU"
  },
  "cells": [
    {
      "cell_type": "markdown",
      "metadata": {
        "id": "view-in-github",
        "colab_type": "text"
      },
      "source": [
        "<a href=\"https://colab.research.google.com/github/mariamcs/Blockchain/blob/master/GoogleLit.ipynb\" target=\"_parent\"><img src=\"https://colab.research.google.com/assets/colab-badge.svg\" alt=\"Open In Colab\"/></a>"
      ]
    },
    {
      "cell_type": "markdown",
      "metadata": {
        "id": "evfd6X-khVCD",
        "colab_type": "text"
      },
      "source": [
        "## start with Google drive"
      ]
    },
    {
      "cell_type": "code",
      "metadata": {
        "id": "X5LT_3Wq5hD-",
        "colab_type": "code",
        "colab": {}
      },
      "source": [
        "%cd drive/My\\ Drive/github/lit\n"
      ],
      "execution_count": null,
      "outputs": []
    },
    {
      "cell_type": "code",
      "metadata": {
        "id": "_-0UJiLR4w4U",
        "colab_type": "code",
        "colab": {}
      },
      "source": [
        "!git clone https://github.com/PAIR-code/lit.git"
      ],
      "execution_count": null,
      "outputs": []
    },
    {
      "cell_type": "code",
      "metadata": {
        "id": "BCMQtvC8qALD",
        "colab_type": "code",
        "colab": {}
      },
      "source": [
        "!pip install lime\n",
        "!pip install sacrebleu\n",
        "!pip install transformers\n",
        "!pip install pyngrok"
      ],
      "execution_count": null,
      "outputs": []
    },
    {
      "cell_type": "code",
      "metadata": {
        "id": "BOSw20gtOJ6-",
        "colab_type": "code",
        "colab": {}
      },
      "source": [
        "from google.colab import drive\n",
        "drive.mount('/content/drive')"
      ],
      "execution_count": null,
      "outputs": []
    },
    {
      "cell_type": "code",
      "metadata": {
        "id": "CAQubO8zqsFm",
        "colab_type": "code",
        "colab": {}
      },
      "source": [
        ""
      ],
      "execution_count": null,
      "outputs": []
    },
    {
      "cell_type": "code",
      "metadata": {
        "id": "ujW_8-FYhq49",
        "colab_type": "code",
        "colab": {}
      },
      "source": [
        "%cd client"
      ],
      "execution_count": null,
      "outputs": []
    },
    {
      "cell_type": "code",
      "metadata": {
        "id": "Yu03cIn7zaJG",
        "colab_type": "code",
        "colab": {}
      },
      "source": [
        "!curl -sS https://dl.yarnpkg.com/debian/pubkey.gpg | sudo apt-key add -\n",
        "!echo \"deb https://dl.yarnpkg.com/debian/ stable main\" | sudo tee /etc/apt/sources.list.d/yarn.list"
      ],
      "execution_count": null,
      "outputs": []
    },
    {
      "cell_type": "code",
      "metadata": {
        "id": "5N2NZXjWzm1F",
        "colab_type": "code",
        "colab": {}
      },
      "source": [
        "!sudo apt update && sudo apt install yarn"
      ],
      "execution_count": null,
      "outputs": []
    },
    {
      "cell_type": "code",
      "metadata": {
        "id": "0lRhpioD0kWt",
        "colab_type": "code",
        "colab": {}
      },
      "source": [
        "!yarn install --no-bin-links -g"
      ],
      "execution_count": null,
      "outputs": []
    },
    {
      "cell_type": "code",
      "metadata": {
        "id": "Z2ZD2jeyvvGB",
        "colab_type": "code",
        "colab": {}
      },
      "source": [
        "!yarn global add webpack webpack-cli acorn --no-bin-links"
      ],
      "execution_count": null,
      "outputs": []
    },
    {
      "cell_type": "code",
      "metadata": {
        "id": "acdiSrkN2rVu",
        "colab_type": "code",
        "colab": {}
      },
      "source": [
        "!yarn build"
      ],
      "execution_count": null,
      "outputs": []
    },
    {
      "cell_type": "code",
      "metadata": {
        "id": "joB0xZY41Tly",
        "colab_type": "code",
        "colab": {}
      },
      "source": [
        "%cd ../../../lit"
      ],
      "execution_count": null,
      "outputs": []
    },
    {
      "cell_type": "code",
      "metadata": {
        "id": "K0tlGOBaxPv4",
        "colab_type": "code",
        "colab": {}
      },
      "source": [
        "from google.colab.output import eval_js\n",
        "print(eval_js(\"google.colab.kernel.proxyPort(5432)\"))"
      ],
      "execution_count": null,
      "outputs": []
    },
    {
      "cell_type": "code",
      "metadata": {
        "id": "MHB6G9vSQRfA",
        "colab_type": "code",
        "colab": {}
      },
      "source": [
        "!python3 -m lit_nlp.examples.quickstart_sst_demo --port=5432"
      ],
      "execution_count": null,
      "outputs": []
    },
    {
      "cell_type": "code",
      "metadata": {
        "id": "Gb5Gd9jZcUly",
        "colab_type": "code",
        "colab": {}
      },
      "source": [
        "!python3 -m lit_nlp.examples.pretrained_lm_demo --port=5432"
      ],
      "execution_count": null,
      "outputs": []
    },
    {
      "cell_type": "code",
      "metadata": {
        "id": "mMotPIwq1uyR",
        "colab_type": "code",
        "colab": {}
      },
      "source": [
        "!ngrok authtoken 1h4MZgJXedADKnFFPZeoWkyyYRO_5WcpAhXMEmPJdBGvhrEwp"
      ],
      "execution_count": null,
      "outputs": []
    },
    {
      "cell_type": "code",
      "metadata": {
        "id": "d7IhOJs4DqnM",
        "colab_type": "code",
        "colab": {}
      },
      "source": [
        "!streamlit run quick_start.py --server.port 5432 &>/dev/null&\n",
        "!pgrep streamlit"
      ],
      "execution_count": null,
      "outputs": []
    },
    {
      "cell_type": "code",
      "metadata": {
        "id": "7KJ_26F-EyQK",
        "colab_type": "code",
        "colab": {}
      },
      "source": [
        "!ps -eaf | grep streamlit"
      ],
      "execution_count": null,
      "outputs": []
    },
    {
      "cell_type": "code",
      "metadata": {
        "id": "y5u3D8ELphgl",
        "colab_type": "code",
        "colab": {}
      },
      "source": [
        "!python -m quick_start &"
      ],
      "execution_count": null,
      "outputs": []
    },
    {
      "cell_type": "code",
      "metadata": {
        "id": "UdTguaP-poQA",
        "colab_type": "code",
        "colab": {}
      },
      "source": [
        "from pyngrok import ngrok\n",
        "# Setup a tunnel to the streamlit port 8501\n",
        "public_url = ngrok.connect(port='5432')\n",
        "public_url"
      ],
      "execution_count": null,
      "outputs": []
    },
    {
      "cell_type": "code",
      "metadata": {
        "id": "mONJsNwTXJ5Z",
        "colab_type": "code",
        "colab": {}
      },
      "source": [
        "!kill -9 2801"
      ],
      "execution_count": null,
      "outputs": []
    },
    {
      "cell_type": "code",
      "metadata": {
        "id": "Pl59ybAHkMK8",
        "colab_type": "code",
        "colab": {}
      },
      "source": [
        "%%write glue.py\n",
        "class MNLIData(lit_dataset.Dataset):\n",
        "  \"\"\"MultiNLI dataset.\n",
        "\n",
        "  See https://www.tensorflow.org/datasets/catalog/glue#gluemnli.\n",
        "  \"\"\"\n",
        "\n",
        "  LABELS = ['0','1']\n",
        "\n",
        "  def __init__(self, split: str):\n",
        "    self._examples = []\n",
        "    for ex in load_tfds('glue/mnli', split=split):\n",
        "      self._examples.append({\n",
        "          'premise': ex['premise'].decode('utf-8'),\n",
        "          'hypothesis': ex['hypothesis'].decode('utf-8'),\n",
        "          'label': self.LABELS[ex['label']],\n",
        "      })\n",
        "\n",
        "  def spec(self):\n",
        "    return {\n",
        "        'premise': lit_types.TextSegment(),\n",
        "        'hypothesis': lit_types.TextSegment(),\n",
        "        'label': lit_types.CategoryLabel(vocab=self.LABELS)\n",
        "    }"
      ],
      "execution_count": null,
      "outputs": []
    }
  ]
}